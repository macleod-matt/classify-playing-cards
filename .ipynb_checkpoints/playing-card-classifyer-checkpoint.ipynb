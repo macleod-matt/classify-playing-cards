{
 "cells": [
  {
   "cell_type": "code",
   "execution_count": 1,
   "id": "e58d8485-92dd-443a-9660-e0fd94180ae9",
   "metadata": {},
   "outputs": [],
   "source": [
    "import torch\n",
    "import torch.nn as nn\n",
    "import torch.optim as optim\n",
    "import torch.nn.functional as F\n",
    "import torchvision\n",
    "from torchvision import datasets, transforms\n",
    "from torch.utils.data import DataLoader\n",
    "import matplotlib.pyplot as plt\n",
    "import numpy as np\n",
    "import os"
   ]
  },
  {
   "cell_type": "code",
   "execution_count": 2,
   "id": "c4988a08-1300-4b9d-86c1-1a538faf71af",
   "metadata": {},
   "outputs": [],
   "source": [
    "train_dir = 'Data/train'  \n",
    "test_dir = 'Data/test'  \n",
    "batch_size = 32\n",
    "learning_rate = 0.001\n",
    "num_epochs = 25\n",
    "num_classes = len(os.listdir(train_dir))  # Assuming each folder is a class\n"
   ]
  },
  {
   "cell_type": "code",
   "execution_count": 3,
   "id": "e474231e-250c-4df2-a29d-35e4af408588",
   "metadata": {},
   "outputs": [],
   "source": [
    "transform = transforms.Compose([\n",
    "    transforms.Resize((128, 128)),  # Resize the images to 128x128\n",
    "    transforms.ToTensor(),          # Convert images to PyTorch tensors\n",
    "    transforms.Normalize((0.5, 0.5, 0.5), (0.5, 0.5, 0.5))  # Normalize the images\n",
    "])\n"
   ]
  },
  {
   "cell_type": "code",
   "execution_count": 4,
   "id": "a9a63a20-5339-4708-b39c-fb47742f4b2a",
   "metadata": {},
   "outputs": [],
   "source": [
    "train_dataset = datasets.ImageFolder(root=train_dir, transform=transform)\n",
    "train_loader = DataLoader(train_dataset, batch_size=batch_size, shuffle=True)\n"
   ]
  },
  {
   "cell_type": "code",
   "execution_count": 5,
   "id": "6b7151f5-26e8-4b90-bdf4-5dac49608df7",
   "metadata": {},
   "outputs": [],
   "source": [
    "class CardClassifier(nn.Module):\n",
    "    def __init__(self, num_classes):\n",
    "        super(CardClassifier, self).__init__()\n",
    "        self.conv1 = nn.Conv2d(3, 32, kernel_size=3, padding=1)\n",
    "        self.conv2 = nn.Conv2d(32, 64, kernel_size=3, padding=1)\n",
    "        self.conv3 = nn.Conv2d(64, 128, kernel_size=3, padding=1)\n",
    "        self.pool = nn.MaxPool2d(2, 2)\n",
    "        self.fc1 = nn.Linear(128 * 16 * 16, 512)  # Adjust this based on image size after conv layers\n",
    "        self.fc2 = nn.Linear(512, num_classes)\n",
    "        self.dropout = nn.Dropout(0.5)\n",
    "        self.relu = nn.ReLU()\n",
    "    \n",
    "    def forward(self, x):\n",
    "        x = self.pool(self.relu(self.conv1(x)))\n",
    "        x = self.pool(self.relu(self.conv2(x)))\n",
    "        x = self.pool(self.relu(self.conv3(x)))\n",
    "        x = x.view(-1, 128 * 16 * 16)  # Flatten the output\n",
    "        x = self.dropout(self.relu(self.fc1(x)))\n",
    "        x = self.fc2(x)\n",
    "        return x\n"
   ]
  },
  {
   "cell_type": "code",
   "execution_count": 6,
   "id": "fff2c0bb-ca89-4327-8913-e067abfadb33",
   "metadata": {},
   "outputs": [
    {
     "name": "stdout",
     "output_type": "stream",
     "text": [
      "Using device: cuda\n"
     ]
    }
   ],
   "source": [
    "device = torch.device(\"cuda\" if torch.cuda.is_available() else \"cpu\")\n",
    "print(f'Using device: {device}')"
   ]
  },
  {
   "cell_type": "code",
   "execution_count": 7,
   "id": "14433878-2ea5-48cb-895f-15765d2428b6",
   "metadata": {},
   "outputs": [],
   "source": [
    "model = CardClassifier(num_classes=num_classes).to(device)\n",
    "criterion = nn.CrossEntropyLoss()\n",
    "optimizer = optim.Adam(model.parameters(), lr=learning_rate)\n"
   ]
  },
  {
   "cell_type": "code",
   "execution_count": 8,
   "id": "1c104043-2788-42cb-b4b5-072c7b50fdd6",
   "metadata": {},
   "outputs": [
    {
     "name": "stdout",
     "output_type": "stream",
     "text": [
      "Epoch 1/25, Loss: 2.8910, Accuracy: 22.14%\n",
      "Epoch 2/25, Loss: 1.9970, Accuracy: 40.88%\n",
      "Epoch 3/25, Loss: 1.5839, Accuracy: 53.48%\n",
      "Epoch 4/25, Loss: 1.1714, Accuracy: 66.28%\n",
      "Epoch 5/25, Loss: 0.8278, Accuracy: 75.85%\n",
      "Epoch 6/25, Loss: 0.6469, Accuracy: 81.10%\n",
      "Epoch 7/25, Loss: 0.4662, Accuracy: 85.85%\n",
      "Epoch 8/25, Loss: 0.3726, Accuracy: 88.29%\n",
      "Epoch 9/25, Loss: 0.3083, Accuracy: 90.91%\n",
      "Epoch 10/25, Loss: 0.2432, Accuracy: 92.39%\n",
      "Epoch 11/25, Loss: 0.2194, Accuracy: 93.82%\n",
      "Epoch 12/25, Loss: 0.2009, Accuracy: 93.87%\n",
      "Epoch 13/25, Loss: 0.1581, Accuracy: 95.42%\n",
      "Epoch 14/25, Loss: 0.1442, Accuracy: 95.79%\n",
      "Epoch 15/25, Loss: 0.1750, Accuracy: 95.13%\n",
      "Epoch 16/25, Loss: 0.1498, Accuracy: 95.50%\n",
      "Epoch 17/25, Loss: 0.1300, Accuracy: 96.27%\n",
      "Epoch 18/25, Loss: 0.1240, Accuracy: 96.18%\n",
      "Epoch 19/25, Loss: 0.0943, Accuracy: 97.15%\n",
      "Epoch 20/25, Loss: 0.1307, Accuracy: 96.29%\n",
      "Epoch 21/25, Loss: 0.1107, Accuracy: 96.85%\n",
      "Epoch 22/25, Loss: 0.1078, Accuracy: 96.72%\n",
      "Epoch 23/25, Loss: 0.0889, Accuracy: 97.26%\n",
      "Epoch 24/25, Loss: 0.1050, Accuracy: 97.09%\n",
      "Epoch 25/25, Loss: 0.0897, Accuracy: 97.46%\n"
     ]
    }
   ],
   "source": [
    "for epoch in range(num_epochs):\n",
    "    running_loss = 0.0\n",
    "    correct_predictions = 0\n",
    "    total_predictions = 0\n",
    "\n",
    "    for inputs, labels in train_loader:\n",
    "        inputs, labels = inputs.to(device), labels.to(device)  # Move inputs and labels to GPU\n",
    "\n",
    "        optimizer.zero_grad()  # Zero the parameter gradients\n",
    "        outputs = model(inputs)  # Forward pass\n",
    "        loss = criterion(outputs, labels)  # Compute the loss\n",
    "        loss.backward()  # Backward pass\n",
    "        optimizer.step()  # Optimize the model\n",
    "\n",
    "        running_loss += loss.item()\n",
    "\n",
    "        # Calculate accuracy\n",
    "        _, predicted = torch.max(outputs, 1)\n",
    "        correct_predictions += (predicted == labels).sum().item()\n",
    "        total_predictions += labels.size(0)\n",
    "\n",
    "    epoch_loss = running_loss / len(train_loader)\n",
    "    epoch_accuracy = correct_predictions / total_predictions * 100\n",
    "\n",
    "    print(f'Epoch {epoch+1}/{num_epochs}, Loss: {epoch_loss:.4f}, Accuracy: {epoch_accuracy:.2f}%')\n"
   ]
  },
  {
   "cell_type": "code",
   "execution_count": 9,
   "id": "cfd2479f-a99d-419b-b53f-2d25da4187c8",
   "metadata": {},
   "outputs": [],
   "source": [
    "test_dataset = datasets.ImageFolder(root=test_dir, transform=transform)\n",
    "test_loader = DataLoader(test_dataset, batch_size=batch_size, shuffle=False)\n",
    "\n",
    "valid_dataset = datasets.ImageFolder(root='Data/valid2/', transform=transform)\n",
    "valid_loader = DataLoader(valid_dataset, batch_size=batch_size, shuffle=False)\n",
    "\n"
   ]
  },
  {
   "cell_type": "code",
   "execution_count": 11,
   "id": "73989f2a-99a8-4238-bd50-ae609c09bf75",
   "metadata": {},
   "outputs": [
    {
     "name": "stdout",
     "output_type": "stream",
     "text": [
      "Test Accuracy: 84.53%\n"
     ]
    }
   ],
   "source": [
    "model.eval()  # Set the model to evaluation mode\n",
    "\n",
    "correct_predictions = 0\n",
    "total_predictions = 0\n",
    "\n",
    "with torch.no_grad():  # Disable gradient computation for testing\n",
    "    for inputs, labels in test_loader:\n",
    "        inputs, labels = inputs.to(device), labels.to(device)  # Move inputs and labels to GPU\n",
    "        \n",
    "        outputs = model(inputs)  # Forward pass\n",
    "        _, predicted = torch.max(outputs, 1)\n",
    "        correct_predictions += (predicted == labels).sum().item()\n",
    "        total_predictions += labels.size(0)\n",
    "\n",
    "test_accuracy = correct_predictions / total_predictions * 100\n",
    "print(f'Test Accuracy: {test_accuracy:.2f}%')"
   ]
  }
 ],
 "metadata": {
  "kernelspec": {
   "display_name": "Python 3 (ipykernel)",
   "language": "python",
   "name": "python3"
  },
  "language_info": {
   "codemirror_mode": {
    "name": "ipython",
    "version": 3
   },
   "file_extension": ".py",
   "mimetype": "text/x-python",
   "name": "python",
   "nbconvert_exporter": "python",
   "pygments_lexer": "ipython3",
   "version": "3.10.12"
  }
 },
 "nbformat": 4,
 "nbformat_minor": 5
}
